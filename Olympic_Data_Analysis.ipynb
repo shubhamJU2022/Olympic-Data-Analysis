{
  "cells": [
    {
      "cell_type": "markdown",
      "metadata": {
        "id": "view-in-github",
        "colab_type": "text"
      },
      "source": [
        "<a href=\"https://colab.research.google.com/github/shubhamJU2022/Olympic-Data-Analysis/blob/main/Olympic_Data_Analysis.ipynb\" target=\"_parent\"><img src=\"https://colab.research.google.com/assets/colab-badge.svg\" alt=\"Open In Colab\"/></a>"
      ]
    },
    {
      "cell_type": "code",
      "execution_count": null,
      "id": "da9602a4",
      "metadata": {
        "id": "da9602a4"
      },
      "outputs": [],
      "source": [
        "Step 1: Importing libraries"
      ]
    },
    {
      "cell_type": "code",
      "execution_count": 1,
      "id": "96f9a3d8",
      "metadata": {
        "id": "96f9a3d8"
      },
      "outputs": [],
      "source": [
        "# importing all necessary libraries\n",
        "import pandas as pd\n",
        "import numpy as np\n",
        "import matplotlib.pyplot as plt\n",
        "import seaborn as sns\n"
      ]
    },
    {
      "cell_type": "code",
      "execution_count": null,
      "id": "0c2e8da8",
      "metadata": {
        "id": "0c2e8da8"
      },
      "outputs": [],
      "source": [
        "Step 2: Understanding database  \n",
        "    \n",
        "When dealing with Olympic data, we have two CSV files. \n",
        "One containing outturn sports-related costs of the Olympic Games of all years. \n",
        "And other is containing the information about athletes of all years when they participated with information."
      ]
    },
    {
      "cell_type": "code",
      "execution_count": null,
      "id": "6cd4a432",
      "metadata": {
        "id": "6cd4a432",
        "outputId": "f318d286-ba29-4c1c-8399-1eed43ee01ff"
      },
      "outputs": [
        {
          "name": "stdout",
          "output_type": "stream",
          "text": [
            "<class 'pandas.core.frame.DataFrame'>\n",
            "RangeIndex: 271116 entries, 0 to 271115\n",
            "Data columns (total 15 columns):\n",
            " #   Column  Non-Null Count   Dtype  \n",
            "---  ------  --------------   -----  \n",
            " 0   ID      271116 non-null  int64  \n",
            " 1   Name    271116 non-null  object \n",
            " 2   Sex     271116 non-null  object \n",
            " 3   Age     261642 non-null  float64\n",
            " 4   Height  210945 non-null  float64\n",
            " 5   Weight  208241 non-null  float64\n",
            " 6   Team    271116 non-null  object \n",
            " 7   NOC     271116 non-null  object \n",
            " 8   Games   271116 non-null  object \n",
            " 9   Year    271116 non-null  int64  \n",
            " 10  Season  271116 non-null  object \n",
            " 11  City    271116 non-null  object \n",
            " 12  Sport   271116 non-null  object \n",
            " 13  Event   271116 non-null  object \n",
            " 14  Medal   39783 non-null   object \n",
            "dtypes: float64(3), int64(2), object(10)\n",
            "memory usage: 31.0+ MB\n",
            "   ID                      Name Sex   Age  Height  Weight            Team  \\\n",
            "0   1                 A Dijiang   M  24.0   180.0    80.0           China   \n",
            "1   2                  A Lamusi   M  23.0   170.0    60.0           China   \n",
            "2   3       Gunnar Nielsen Aaby   M  24.0     NaN     NaN         Denmark   \n",
            "3   4      Edgar Lindenau Aabye   M  34.0     NaN     NaN  Denmark/Sweden   \n",
            "4   5  Christine Jacoba Aaftink   F  21.0   185.0    82.0     Netherlands   \n",
            "\n",
            "   NOC        Games  Year  Season       City          Sport  \\\n",
            "0  CHN  1992 Summer  1992  Summer  Barcelona     Basketball   \n",
            "1  CHN  2012 Summer  2012  Summer     London           Judo   \n",
            "2  DEN  1920 Summer  1920  Summer  Antwerpen       Football   \n",
            "3  DEN  1900 Summer  1900  Summer      Paris     Tug-Of-War   \n",
            "4  NED  1988 Winter  1988  Winter    Calgary  Speed Skating   \n",
            "\n",
            "                              Event Medal  \n",
            "0       Basketball Men's Basketball   NaN  \n",
            "1      Judo Men's Extra-Lightweight   NaN  \n",
            "2           Football Men's Football   NaN  \n",
            "3       Tug-Of-War Men's Tug-Of-War  Gold  \n",
            "4  Speed Skating Women's 500 metres   NaN                     ID            Age         Height         Weight  \\\n",
            "count  271116.000000  261642.000000  210945.000000  208241.000000   \n",
            "mean    68248.954396      25.556898     175.338970      70.702393   \n",
            "std     39022.286345       6.393561      10.518462      14.348020   \n",
            "min         1.000000      10.000000     127.000000      25.000000   \n",
            "25%     34643.000000      21.000000     168.000000      60.000000   \n",
            "50%     68205.000000      24.000000     175.000000      70.000000   \n",
            "75%    102097.250000      28.000000     183.000000      79.000000   \n",
            "max    135571.000000      97.000000     226.000000     214.000000   \n",
            "\n",
            "                Year  \n",
            "count  271116.000000  \n",
            "mean     1978.378480  \n",
            "std        29.877632  \n",
            "min      1896.000000  \n",
            "25%      1960.000000  \n",
            "50%      1988.000000  \n",
            "75%      2002.000000  \n",
            "max      2016.000000   None\n"
          ]
        }
      ],
      "source": [
        "#We imported both the datasets using the .read_csv() method into a dataframe using pandas and displayed the first 5 rows of each dataset.\n",
        "\n",
        "data = pd.read_csv('athlete_events.csv') # read file\n",
        "\n",
        "# data.head() display first 5 entry\n",
        "# data.describe describe about model\n",
        "# data.info give info about data\n",
        "print(data.head(), data.describe(), data.info())\n"
      ]
    },
    {
      "cell_type": "code",
      "execution_count": null,
      "id": "459c44a7",
      "metadata": {
        "id": "459c44a7"
      },
      "outputs": [],
      "source": [
        "Step 4: Merging two DataFrame\n",
        "Here we are going to merge two dataframe using pandas.merge() in python."
      ]
    },
    {
      "cell_type": "code",
      "execution_count": null,
      "id": "37694249",
      "metadata": {
        "id": "37694249",
        "outputId": "46556772-ac8e-4ede-ee16-2131b1e08d2e"
      },
      "outputs": [
        {
          "name": "stdout",
          "output_type": "stream",
          "text": [
            "   NOC       region                 notes\n",
            "0  AFG  Afghanistan                   NaN\n",
            "1  AHO      Curacao  Netherlands Antilles\n",
            "2  ALB      Albania                   NaN\n",
            "3  ALG      Algeria                   NaN\n",
            "4  AND      Andorra                   NaN\n",
            "   ID                      Name Sex   Age  Height  Weight            Team  \\\n",
            "0   1                 A Dijiang   M  24.0   180.0    80.0           China   \n",
            "1   2                  A Lamusi   M  23.0   170.0    60.0           China   \n",
            "2   3       Gunnar Nielsen Aaby   M  24.0     NaN     NaN         Denmark   \n",
            "3   4      Edgar Lindenau Aabye   M  34.0     NaN     NaN  Denmark/Sweden   \n",
            "4   5  Christine Jacoba Aaftink   F  21.0   185.0    82.0     Netherlands   \n",
            "\n",
            "   NOC        Games  Year  Season       City          Sport  \\\n",
            "0  CHN  1992 Summer  1992  Summer  Barcelona     Basketball   \n",
            "1  CHN  2012 Summer  2012  Summer     London           Judo   \n",
            "2  DEN  1920 Summer  1920  Summer  Antwerpen       Football   \n",
            "3  DEN  1900 Summer  1900  Summer      Paris     Tug-Of-War   \n",
            "4  NED  1988 Winter  1988  Winter    Calgary  Speed Skating   \n",
            "\n",
            "                              Event Medal       region notes  \n",
            "0       Basketball Men's Basketball   NaN        China   NaN  \n",
            "1      Judo Men's Extra-Lightweight   NaN        China   NaN  \n",
            "2           Football Men's Football   NaN      Denmark   NaN  \n",
            "3       Tug-Of-War Men's Tug-Of-War  Gold      Denmark   NaN  \n",
            "4  Speed Skating Women's 500 metres   NaN  Netherlands   NaN  \n"
          ]
        }
      ],
      "source": [
        "# regions and country noc data csv file\n",
        "regions = pd.read_csv('datasets_31029_40943_noc_regions.csv')\n",
        "print(regions.head())\n",
        "\n",
        "# merging to data and regions frame\n",
        "merged = pd.merge(data, regions, on='NOC', how='left')\n",
        "print(merged.head())\n"
      ]
    },
    {
      "cell_type": "code",
      "execution_count": null,
      "id": "34e68859",
      "metadata": {
        "id": "34e68859",
        "outputId": "6344aec9-b557-4c13-ff80-157af891c670"
      },
      "outputs": [
        {
          "name": "stdout",
          "output_type": "stream",
          "text": [
            "    ID                     Name Sex   Age  Height  Weight            Team  \\\n",
            "3    4     Edgar Lindenau Aabye   M  34.0     NaN     NaN  Denmark/Sweden   \n",
            "42  17  Paavo Johannes Aaltonen   M  28.0   175.0    64.0         Finland   \n",
            "44  17  Paavo Johannes Aaltonen   M  28.0   175.0    64.0         Finland   \n",
            "48  17  Paavo Johannes Aaltonen   M  28.0   175.0    64.0         Finland   \n",
            "60  20       Kjetil Andr Aamodt   M  20.0   176.0    85.0          Norway   \n",
            "\n",
            "    NOC        Games  Year  Season         City          Sport  \\\n",
            "3   DEN  1900 Summer  1900  Summer        Paris     Tug-Of-War   \n",
            "42  FIN  1948 Summer  1948  Summer       London     Gymnastics   \n",
            "44  FIN  1948 Summer  1948  Summer       London     Gymnastics   \n",
            "48  FIN  1948 Summer  1948  Summer       London     Gymnastics   \n",
            "60  NOR  1992 Winter  1992  Winter  Albertville  Alpine Skiing   \n",
            "\n",
            "                               Event Medal   region notes  \n",
            "3        Tug-Of-War Men's Tug-Of-War  Gold  Denmark   NaN  \n",
            "42  Gymnastics Men's Team All-Around  Gold  Finland   NaN  \n",
            "44      Gymnastics Men's Horse Vault  Gold  Finland   NaN  \n",
            "48  Gymnastics Men's Pommelled Horse  Gold  Finland   NaN  \n",
            "60       Alpine Skiing Men's Super G  Gold   Norway   NaN  \n"
          ]
        }
      ],
      "source": [
        "#Data analysis of Gold medalists\n",
        "\n",
        "#Creating a new data frame including only gold medalists.\n",
        "\n",
        "# creating goldmedal dataframes\n",
        "goldMedals = merged[(merged.Medal == 'Gold')]\n",
        "print(goldMedals.head())\n"
      ]
    },
    {
      "cell_type": "code",
      "execution_count": null,
      "id": "b97e8960",
      "metadata": {
        "id": "b97e8960"
      },
      "outputs": [],
      "source": [
        "Gold medalist in respect of age:\n"
      ]
    },
    {
      "cell_type": "code",
      "execution_count": null,
      "id": "2457c9dd",
      "metadata": {
        "id": "2457c9dd",
        "outputId": "81cb6deb-8e20-427b-c2d2-939bbcfdbd60"
      },
      "outputs": [
        {
          "name": "stderr",
          "output_type": "stream",
          "text": [
            "C:\\Users\\Lenovo\\anaconda3\\lib\\site-packages\\seaborn\\_decorators.py:36: FutureWarning: Pass the following variable as a keyword arg: x. From version 0.12, the only valid positional argument will be `data`, and passing other arguments without an explicit keyword will result in an error or misinterpretation.\n",
            "  warnings.warn(\n"
          ]
        },
        {
          "data": {
            "image/png": "[encoded data removed]",
            "text/plain": [
              "<Figure size 1440x720 with 1 Axes>"
            ]
          },
          "metadata": {
            "needs_background": "light"
          },
          "output_type": "display_data"
        }
      ],
      "source": [
        "#Here we are going to create a graph of the number of gold medals with respect to age.\n",
        "#For this, we will create countplot for graph representation which shows the X-axis as the age of the players and \n",
        "#the Y-axis represent the number of medals.\n",
        "\n",
        "\n",
        "plt.figure(figsize=(20, 10))\n",
        "plt.title('Distribution of Gold Medals')\n",
        "sns.countplot(goldMedals['Age'])\n",
        "plt.show()\n"
      ]
    },
    {
      "cell_type": "code",
      "execution_count": null,
      "id": "964401b9",
      "metadata": {
        "id": "964401b9",
        "outputId": "8fb97589-ad1d-425a-c081-c5e2282e402a"
      },
      "outputs": [
        {
          "name": "stdout",
          "output_type": "stream",
          "text": [
            "The no of athletes is 65 \n",
            "\n",
            "            ID                           Name Sex   Age  Height  Weight  \\\n",
            "5078      2894         Derek Swithin Allhusen   M  54.0   180.0    71.0   \n",
            "7961      4404             Johan August Anker   M  56.0     NaN     NaN   \n",
            "13394     7272     Nikolaus \"Klaus\" Balkenhol   M  52.0   178.0    83.0   \n",
            "13396     7272     Nikolaus \"Klaus\" Balkenhol   M  56.0   178.0    83.0   \n",
            "24897    13033  Gustaf Adolf Boltenstern, Jr.   M  52.0     NaN     NaN   \n",
            "...        ...                            ...  ..   ...     ...     ...   \n",
            "261102  130662        Robert W. Williams, Jr.   M  63.0     NaN     NaN   \n",
            "261671  130936                  Walter Winans   M  56.0     NaN     NaN   \n",
            "261675  130936                  Walter Winans   M  60.0     NaN     NaN   \n",
            "262865  131533       Emily Woodruff (Smiley-)   F  58.0     NaN     NaN   \n",
            "266293  133226       Mahonri Mackintosh Young   M  54.0     NaN     NaN   \n",
            "\n",
            "                      Team  NOC        Games  Year  Season         City  \\\n",
            "5078         Great Britain  GBR  1968 Summer  1968  Summer  Mexico City   \n",
            "7961                 Norna  NOR  1928 Summer  1928  Summer    Amsterdam   \n",
            "13394              Germany  GER  1992 Summer  1992  Summer    Barcelona   \n",
            "13396              Germany  GER  1996 Summer  1996  Summer      Atlanta   \n",
            "24897               Sweden  SWE  1956 Summer  1956  Summer    Stockholm   \n",
            "...                    ...  ...          ...   ...     ...          ...   \n",
            "261102     Potomac Archers  USA  1904 Summer  1904  Summer    St. Louis   \n",
            "261671       United States  USA  1908 Summer  1908  Summer       London   \n",
            "261675       United States  USA  1912 Summer  1912  Summer    Stockholm   \n",
            "262865  Cincinnati Archers  USA  1904 Summer  1904  Summer    St. Louis   \n",
            "266293       United States  USA  1932 Summer  1932  Summer  Los Angeles   \n",
            "\n",
            "                   Sport                                        Event Medal  \\\n",
            "5078       Equestrianism    Equestrianism Mixed Three-Day Event, Team  Gold   \n",
            "7961             Sailing                       Sailing Mixed 6 metres  Gold   \n",
            "13394      Equestrianism           Equestrianism Mixed Dressage, Team  Gold   \n",
            "13396      Equestrianism           Equestrianism Mixed Dressage, Team  Gold   \n",
            "24897      Equestrianism           Equestrianism Mixed Dressage, Team  Gold   \n",
            "...                  ...                                          ...   ...   \n",
            "261102           Archery                     Archery Men's Team Round  Gold   \n",
            "261671          Shooting   Shooting Men's Running Target, Double Shot  Gold   \n",
            "261675  Art Competitions           Art Competitions Mixed Sculpturing  Gold   \n",
            "262865           Archery                   Archery Women's Team Round  Gold   \n",
            "266293  Art Competitions  Art Competitions Mixed Sculpturing, Statues  Gold   \n",
            "\n",
            "         region notes  \n",
            "5078         UK   NaN  \n",
            "7961     Norway   NaN  \n",
            "13394   Germany   NaN  \n",
            "13396   Germany   NaN  \n",
            "24897    Sweden   NaN  \n",
            "...         ...   ...  \n",
            "261102      USA   NaN  \n",
            "261671      USA   NaN  \n",
            "261675      USA   NaN  \n",
            "262865      USA   NaN  \n",
            "266293      USA   NaN  \n",
            "\n",
            "[65 rows x 17 columns]\n"
          ]
        }
      ],
      "source": [
        "#Print the number of athletes who are gold medalists and whose age is greater than 50 with their info.\n",
        "\n",
        "goldMedals = merged[(merged.Medal == 'Gold')]\n",
        "print('The no of athletes is',\n",
        "\tgoldMedals['ID'][goldMedals['Age'] > 50].count(), '\\n')\n",
        "print(goldMedals[goldMedals['Age'] > 50])\n"
      ]
    },
    {
      "cell_type": "code",
      "execution_count": null,
      "id": "35791bb4",
      "metadata": {
        "id": "35791bb4",
        "outputId": "53892252-2363-459e-8c73-dbf9ad2eb621"
      },
      "outputs": [
        {
          "name": "stderr",
          "output_type": "stream",
          "text": [
            "C:\\Users\\Lenovo\\anaconda3\\lib\\site-packages\\seaborn\\_decorators.py:36: FutureWarning: Pass the following variable as a keyword arg: x. From version 0.12, the only valid positional argument will be `data`, and passing other arguments without an explicit keyword will result in an error or misinterpretation.\n",
            "  warnings.warn(\n"
          ]
        },
        {
          "data": {
            "image/png": "[encoded data removed]",
            "text/plain": [
              "<Figure size 1440x720 with 1 Axes>"
            ]
          },
          "metadata": {
            "needs_background": "light"
          },
          "output_type": "display_data"
        }
      ],
      "source": [
        "#Creating a new dataframe called masterDisciplines in which we will insert this new set of people and then create a visualization with it\n",
        "\n",
        "masterDisciplines = goldMedals['Sport'][goldMedals['Age'] > 50]\n",
        "plt.figure(figsize=(20, 10))\n",
        "plt.tight_layout()\n",
        "sns.countplot(masterDisciplines)\n",
        "plt.title('Gold Medals for Athletes Over 50')\n",
        "plt.show()\n"
      ]
    },
    {
      "cell_type": "code",
      "execution_count": null,
      "id": "96142326",
      "metadata": {
        "id": "96142326"
      },
      "outputs": [],
      "source": [
        "Women who can play in summer\n"
      ]
    },
    {
      "cell_type": "code",
      "execution_count": null,
      "id": "4a92f255",
      "metadata": {
        "id": "4a92f255",
        "outputId": "4131d980-a3f1-4014-94f1-20069bd4e419"
      },
      "outputs": [
        {
          "name": "stdout",
          "output_type": "stream",
          "text": [
            "     ID                                Name Sex   Age  Height  Weight  \\\n",
            "26    8  Cornelia \"Cor\" Aalten (-Strannood)   F  18.0   168.0     NaN   \n",
            "27    8  Cornelia \"Cor\" Aalten (-Strannood)   F  18.0   168.0     NaN   \n",
            "32   13                  Minna Maarit Aalto   F  30.0   159.0    55.5   \n",
            "33   13                  Minna Maarit Aalto   F  34.0   159.0    55.5   \n",
            "79   21           Ragnhild Margrethe Aamodt   F  27.0   163.0     NaN   \n",
            "80   22                       Andreea Aanei   F  22.0   170.0   125.0   \n",
            "91   29                Willemien Aardenburg   F  22.0     NaN     NaN   \n",
            "105  37                  Ann Kristin Aarnes   F  23.0   182.0    64.0   \n",
            "135  49                        Moonika Aava   F  24.0   168.0    65.0   \n",
            "136  49                        Moonika Aava   F  28.0   168.0    65.0   \n",
            "\n",
            "            Team  NOC        Games  Year  Season            City  \\\n",
            "26   Netherlands  NED  1932 Summer  1932  Summer     Los Angeles   \n",
            "27   Netherlands  NED  1932 Summer  1932  Summer     Los Angeles   \n",
            "32       Finland  FIN  1996 Summer  1996  Summer         Atlanta   \n",
            "33       Finland  FIN  2000 Summer  2000  Summer          Sydney   \n",
            "79        Norway  NOR  2008 Summer  2008  Summer         Beijing   \n",
            "80       Romania  ROU  2016 Summer  2016  Summer  Rio de Janeiro   \n",
            "91   Netherlands  NED  1988 Summer  1988  Summer           Seoul   \n",
            "105       Norway  NOR  1996 Summer  1996  Summer         Atlanta   \n",
            "135      Estonia  EST  2004 Summer  2004  Summer          Athina   \n",
            "136      Estonia  EST  2008 Summer  2008  Summer         Beijing   \n",
            "\n",
            "             Sport                                    Event   Medal  \\\n",
            "26       Athletics             Athletics Women's 100 metres     NaN   \n",
            "27       Athletics   Athletics Women's 4 x 100 metres Relay     NaN   \n",
            "32         Sailing               Sailing Women's Windsurfer     NaN   \n",
            "33         Sailing               Sailing Women's Windsurfer     NaN   \n",
            "79        Handball                Handball Women's Handball    Gold   \n",
            "80   Weightlifting  Weightlifting Women's Super-Heavyweight     NaN   \n",
            "91          Hockey                    Hockey Women's Hockey  Bronze   \n",
            "105       Football                Football Women's Football  Bronze   \n",
            "135      Athletics          Athletics Women's Javelin Throw     NaN   \n",
            "136      Athletics          Athletics Women's Javelin Throw     NaN   \n",
            "\n",
            "          region notes  \n",
            "26   Netherlands   NaN  \n",
            "27   Netherlands   NaN  \n",
            "32       Finland   NaN  \n",
            "33       Finland   NaN  \n",
            "79        Norway   NaN  \n",
            "80       Romania   NaN  \n",
            "91   Netherlands   NaN  \n",
            "105       Norway   NaN  \n",
            "135      Estonia   NaN  \n",
            "136      Estonia   NaN  \n"
          ]
        },
        {
          "data": {
            "image/png": "[encoded data removed]",
            "text/plain": [
              "<Figure size 1440x720 with 1 Axes>"
            ]
          },
          "metadata": {},
          "output_type": "display_data"
        }
      ],
      "source": [
        "##Display all women athletes who have played in the summer season and it show the increase in women athletes after a long period via graphical representation.\n",
        "\n",
        "womenInOlympics = merged[(merged.Sex == 'F') &\n",
        "(merged.Season == 'Summer')]\n",
        "print(womenInOlympics.head(10))\n",
        "\n",
        "sns.set(style=\"darkgrid\")\n",
        "plt.figure(figsize=(20, 10))\n",
        "sns.countplot(x='Year', data=womenInOlympics)\n",
        "plt.title('Women medals per edition of the Games')\n",
        "plt.show()\n"
      ]
    },
    {
      "cell_type": "code",
      "execution_count": null,
      "id": "ea762391",
      "metadata": {
        "id": "ea762391"
      },
      "outputs": [],
      "source": [
        "Top  5 countries who won the most medals"
      ]
    },
    {
      "cell_type": "code",
      "execution_count": null,
      "id": "65453f6b",
      "metadata": {
        "id": "65453f6b",
        "outputId": "2d3abeb0-aa56-49ab-dfcf-ef1d8be854cd"
      },
      "outputs": [
        {
          "name": "stdout",
          "output_type": "stream",
          "text": [
            "     index  Medal\n",
            "0      USA   2638\n",
            "1   Russia   1599\n",
            "2  Germany   1301\n",
            "3       UK    678\n",
            "4    Italy    575\n"
          ]
        },
        {
          "data": {
            "image/png": "[encoded data removed]",
            "text/plain": [
              "<Figure size 432x432 with 1 Axes>"
            ]
          },
          "metadata": {
            "needs_background": "light"
          },
          "output_type": "display_data"
        }
      ],
      "source": [
        "#Here we are going to print the top 5 countries and show them in the graph with catplot.\n",
        "\n",
        "print(goldMedals.region.value_counts().reset_index(name='Medal').head())\n",
        "  \n",
        "totalGoldMedals = goldMedals.region.value_counts().reset_index(name='Medal').head(5)\n",
        "g = sns.catplot(x=\"index\", y=\"Medal\", data=totalGoldMedals,\n",
        "                height=6, kind=\"bar\", palette=\"muted\")\n",
        "g.despine(left=True)\n",
        "g.set_xlabels(\"Top 5 countries\")\n",
        "g.set_ylabels(\"Number of Medals\")\n",
        "plt.title('Medals per Country')\n",
        "plt.show()\n"
      ]
    },
    {
      "cell_type": "code",
      "execution_count": null,
      "id": "573eb673",
      "metadata": {
        "id": "573eb673"
      },
      "outputs": [],
      "source": [
        "Players weight Analysis"
      ]
    },
    {
      "cell_type": "code",
      "execution_count": null,
      "id": "4674dfdd",
      "metadata": {
        "id": "4674dfdd",
        "outputId": "90f4d4a7-d5a9-4e12-8943-925096e95a77"
      },
      "outputs": [
        {
          "name": "stderr",
          "output_type": "stream",
          "text": [
            "C:\\Users\\Lenovo\\anaconda3\\lib\\site-packages\\seaborn\\_decorators.py:36: FutureWarning: Pass the following variables as keyword args: x, y. From version 0.12, the only valid positional argument will be `data`, and passing other arguments without an explicit keyword will result in an error or misinterpretation.\n",
            "  warnings.warn(\n"
          ]
        },
        {
          "data": {
            "image/png": "[encoded data removed]",
            "text/plain": [
              "<Figure size 1440x720 with 1 Axes>"
            ]
          },
          "metadata": {
            "needs_background": "light"
          },
          "output_type": "display_data"
        }
      ],
      "source": [
        "#Here we are going to see how weight over year for Male Lifters via graphical representation using pointplot.\n",
        "\n",
        "MenOverTime = merged[(merged.Sex == 'M') &\n",
        "(merged.Season == 'Summer')]\n",
        "wlMenOverTime = MenOverTime.loc[MenOverTime['Sport'] == 'Weightlifting']\n",
        "\n",
        "plt.figure(figsize=(20, 10))\n",
        "sns.pointplot('Year', 'Weight', data=wlMenOverTime, palette='Set2')\n",
        "plt.title('Weight over year for Male Lifters')\n",
        "plt.show()\n"
      ]
    },
    {
      "cell_type": "code",
      "execution_count": null,
      "id": "ccdd647c",
      "metadata": {
        "id": "ccdd647c"
      },
      "outputs": [],
      "source": [
        ""
      ]
    },
    {
      "cell_type": "code",
      "execution_count": null,
      "id": "56455416",
      "metadata": {
        "id": "56455416"
      },
      "outputs": [],
      "source": [
        ""
      ]
    },
    {
      "cell_type": "code",
      "execution_count": null,
      "id": "3c0cb992",
      "metadata": {
        "id": "3c0cb992"
      },
      "outputs": [],
      "source": [
        ""
      ]
    },
    {
      "cell_type": "code",
      "execution_count": null,
      "id": "2c15c0e2",
      "metadata": {
        "id": "2c15c0e2"
      },
      "outputs": [],
      "source": [
        ""
      ]
    },
    {
      "cell_type": "code",
      "execution_count": null,
      "id": "45499c6e",
      "metadata": {
        "id": "45499c6e"
      },
      "outputs": [],
      "source": [
        ""
      ]
    }
  ],
  "metadata": {
    "kernelspec": {
      "display_name": "Python 3",
      "language": "python",
      "name": "python3"
    },
    "language_info": {
      "codemirror_mode": {
        "name": "ipython",
        "version": 3
      },
      "file_extension": ".py",
      "mimetype": "text/x-python",
      "name": "python",
      "nbconvert_exporter": "python",
      "pygments_lexer": "ipython3",
      "version": "3.8.8"
    },
    "colab": {
      "name": "Olympic Data Analysis.ipynb",
      "provenance": [],
      "include_colab_link": true
    }
  },
  "nbformat": 4,
  "nbformat_minor": 5
}